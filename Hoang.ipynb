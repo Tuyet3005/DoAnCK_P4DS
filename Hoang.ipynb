{
 "cells": [
  {
   "cell_type": "markdown",
   "id": "29a21cdf",
   "metadata": {},
   "source": [
    "## Import thư viện"
   ]
  },
  {
   "cell_type": "code",
   "execution_count": 4,
   "id": "24652b01",
   "metadata": {},
   "outputs": [],
   "source": [
    "import numpy as np\n",
    "import pandas as pd"
   ]
  },
  {
   "cell_type": "markdown",
   "id": "95dc4251",
   "metadata": {},
   "source": [
    "## Đọc dữ liệu"
   ]
  },
  {
   "cell_type": "code",
   "execution_count": 7,
   "id": "14354360",
   "metadata": {},
   "outputs": [],
   "source": [
    "data_df = pd.read_json('data.json')"
   ]
  },
  {
   "cell_type": "code",
   "execution_count": 10,
   "id": "3583a7d7",
   "metadata": {},
   "outputs": [
    {
     "data": {
      "text/html": [
       "<div>\n",
       "<style scoped>\n",
       "    .dataframe tbody tr th:only-of-type {\n",
       "        vertical-align: middle;\n",
       "    }\n",
       "\n",
       "    .dataframe tbody tr th {\n",
       "        vertical-align: top;\n",
       "    }\n",
       "\n",
       "    .dataframe thead th {\n",
       "        text-align: right;\n",
       "    }\n",
       "</style>\n",
       "<table border=\"1\" class=\"dataframe\">\n",
       "  <thead>\n",
       "    <tr style=\"text-align: right;\">\n",
       "      <th></th>\n",
       "      <th>dataset</th>\n",
       "    </tr>\n",
       "  </thead>\n",
       "  <tbody>\n",
       "    <tr>\n",
       "      <th>dimension</th>\n",
       "      <td>{'Địa phương': {'label': 'Địa phương', 'catego...</td>\n",
       "    </tr>\n",
       "    <tr>\n",
       "      <th>label</th>\n",
       "      <td>Lực lượng lao động từ 15 tuổi trở lên phân the...</td>\n",
       "    </tr>\n",
       "    <tr>\n",
       "      <th>source</th>\n",
       "      <td>None</td>\n",
       "    </tr>\n",
       "    <tr>\n",
       "      <th>status</th>\n",
       "      <td>{'50': None, '51': None, '52': None, '53': Non...</td>\n",
       "    </tr>\n",
       "    <tr>\n",
       "      <th>updated</th>\n",
       "      <td>9999-12-31T16:59:59Z</td>\n",
       "    </tr>\n",
       "    <tr>\n",
       "      <th>value</th>\n",
       "      <td>[44904.5, 47160.3, 48209.6, 49322, 50473.5, 51...</td>\n",
       "    </tr>\n",
       "  </tbody>\n",
       "</table>\n",
       "</div>"
      ],
      "text/plain": [
       "                                                     dataset\n",
       "dimension  {'Địa phương': {'label': 'Địa phương', 'catego...\n",
       "label      Lực lượng lao động từ 15 tuổi trở lên phân the...\n",
       "source                                                  None\n",
       "status     {'50': None, '51': None, '52': None, '53': Non...\n",
       "updated                                 9999-12-31T16:59:59Z\n",
       "value      [44904.5, 47160.3, 48209.6, 49322, 50473.5, 51..."
      ]
     },
     "execution_count": 10,
     "metadata": {},
     "output_type": "execute_result"
    }
   ],
   "source": [
    "data_df"
   ]
  },
  {
   "cell_type": "markdown",
   "id": "9f87e9d0",
   "metadata": {},
   "source": [
    "## Tiền xử lý dữ liệu\n",
    "\n",
    "Như bảng trên, dữ liệu từ file json vẫn chưa thể sử dụng, trước đó ta cần chuyển về định dạng dòng cột hợp lý để có thể xử lý bằng pandas"
   ]
  },
  {
   "cell_type": "markdown",
   "id": "266eb17d",
   "metadata": {},
   "source": [
    "Trước hết, ta lọc ra label của các năm"
   ]
  },
  {
   "cell_type": "code",
   "execution_count": 62,
   "id": "4af1f394",
   "metadata": {},
   "outputs": [
    {
     "data": {
      "text/plain": [
       "['2005',\n",
       " '2007',\n",
       " '2008',\n",
       " '2009',\n",
       " '2010',\n",
       " '2011',\n",
       " '2012',\n",
       " '2013',\n",
       " '2014',\n",
       " '2015',\n",
       " '2016',\n",
       " '2017',\n",
       " '2018',\n",
       " '2019',\n",
       " '2020',\n",
       " 'Sơ bộ 2021']"
      ]
     },
     "execution_count": 62,
     "metadata": {},
     "output_type": "execute_result"
    }
   ],
   "source": [
    "year_label = list(data_df['dataset']['dimension']['Năm']['category']['label'].values())\n",
    "year_label"
   ]
  },
  {
   "cell_type": "markdown",
   "id": "70946da5",
   "metadata": {},
   "source": [
    "Đổi label cuối cùng thành '2021' cho dễ nhìn hơn"
   ]
  },
  {
   "cell_type": "code",
   "execution_count": 66,
   "id": "34c80fba",
   "metadata": {},
   "outputs": [],
   "source": [
    "year_label[-1] = '2021'"
   ]
  },
  {
   "cell_type": "markdown",
   "id": "ca19853b",
   "metadata": {},
   "source": [
    "Tiếp theo, lấy label của tất cả các địa phương"
   ]
  },
  {
   "cell_type": "code",
   "execution_count": 40,
   "id": "597c1c0e",
   "metadata": {},
   "outputs": [
    {
     "data": {
      "text/plain": [
       "dict_values(['CẢ NƯỚC', 'Đồng bằng sông Hồng', 'Hà Nội', 'Hà Tây', 'Vĩnh Phúc', 'Bắc Ninh', 'Quảng Ninh', 'Hải Dương', 'Hải Phòng', 'Hưng Yên', 'Thái Bình', 'Hà Nam', 'Nam Định', 'Ninh Bình', 'Trung du và miền núi phía Bắc', 'Hà Giang', 'Cao Bằng', 'Bắc Kạn', 'Tuyên Quang', 'Lào Cai', 'Yên Bái', 'Thái Nguyên', 'Lạng Sơn', 'Bắc Giang', 'Phú Thọ', 'Điện Biên', 'Lai Châu', 'Sơn La', 'Hòa Bình', 'Bắc Trung Bộ và duyên hải miền Trung', 'Thanh Hóa', 'Nghệ An', 'Hà Tĩnh', 'Quảng Bình', 'Quảng Trị', 'Thừa Thiên - Huế', 'Đà Nẵng', 'Quảng Nam', 'Quảng Ngãi', 'Bình Định', 'Phú Yên', 'Khánh Hòa', 'Ninh Thuận', 'Bình Thuận', 'Tây Nguyên', 'Kon Tum', 'Gia Lai', 'Đắk Lắk', 'Đắk Nông', 'Lâm Đồng', 'Đông Nam Bộ', 'Bình Phước', 'Tây Ninh', 'Bình Dương', 'Đồng Nai', 'Bà Rịa - Vũng Tàu', 'TP. Hồ Chí Minh', 'Đồng bằng sông Cửu Long', 'Long An', 'Tiền Giang', 'Bến Tre', 'Trà Vinh', 'Vĩnh Long', 'Đồng Tháp', 'An Giang', 'Kiên Giang', 'Cần Thơ', 'Hậu Giang', 'Sóc Trăng', 'Bạc Liêu', 'Cà Mau'])"
      ]
     },
     "execution_count": 40,
     "metadata": {},
     "output_type": "execute_result"
    }
   ],
   "source": [
    "diaPhuong_label = data_df['dataset']['dimension']['Địa phương']['category']['label'].values()\n",
    "diaPhuong_label"
   ]
  },
  {
   "cell_type": "markdown",
   "id": "e919315a",
   "metadata": {},
   "source": [
    "Tiếp theo, lấy dữ liệu của từng ô"
   ]
  },
  {
   "cell_type": "code",
   "execution_count": 41,
   "id": "c052f783",
   "metadata": {},
   "outputs": [
    {
     "data": {
      "text/plain": [
       "array([[44904.5, 47160.3, 48209.6, ..., 55767.4, 54842.937, 50560.5],\n",
       "       [10728.4, 11032.5, 11057, ..., 12438.2, 12182.09500000073,\n",
       "        11436.7],\n",
       "       [1553.1, 1653.7, 3421.2, ..., 4118.3, 4124.6220000007, 3939.9],\n",
       "       ...,\n",
       "       [720.3, 707.8, 722.3, ..., 657.9, 641.911, 614.1],\n",
       "       [439.4, 451.6, 483.1, ..., 518.1, 507.758, 480.9],\n",
       "       [581.6, 625.5, 654.1, ..., 690.9, 669.773, 596.8]], dtype=object)"
      ]
     },
     "execution_count": 41,
     "metadata": {},
     "output_type": "execute_result"
    }
   ],
   "source": [
    "value = np.array(data_df['dataset']['value']).reshape(len(diaPhuong_label), len(year_label))\n",
    "value"
   ]
  },
  {
   "cell_type": "markdown",
   "id": "7702e5b5",
   "metadata": {},
   "source": [
    "Cuối cùng, lưu dữ liệu vào dataframe"
   ]
  },
  {
   "cell_type": "code",
   "execution_count": 67,
   "id": "7aa706db",
   "metadata": {},
   "outputs": [],
   "source": [
    "data = pd.DataFrame(data = value, index = diaPhuong_label, columns = year_label)\n",
    "data = data.fillna(value=np.nan)"
   ]
  },
  {
   "cell_type": "markdown",
   "id": "3ee7f87f",
   "metadata": {},
   "source": [
    "## Khám phá dữ liệu"
   ]
  },
  {
   "cell_type": "markdown",
   "id": "3d23aed9",
   "metadata": {},
   "source": [
    "Dùng hàm describe để xem xét các chỉ số như count, mean, std, Q1, Q3,.. để có cái nhìn chung hơn về dữ liệu."
   ]
  },
  {
   "cell_type": "code",
   "execution_count": 68,
   "id": "284ae5a5",
   "metadata": {
    "scrolled": false
   },
   "outputs": [
    {
     "data": {
      "text/html": [
       "<div>\n",
       "<style scoped>\n",
       "    .dataframe tbody tr th:only-of-type {\n",
       "        vertical-align: middle;\n",
       "    }\n",
       "\n",
       "    .dataframe tbody tr th {\n",
       "        vertical-align: top;\n",
       "    }\n",
       "\n",
       "    .dataframe thead th {\n",
       "        text-align: right;\n",
       "    }\n",
       "</style>\n",
       "<table border=\"1\" class=\"dataframe\">\n",
       "  <thead>\n",
       "    <tr style=\"text-align: right;\">\n",
       "      <th></th>\n",
       "      <th>2005</th>\n",
       "      <th>2007</th>\n",
       "      <th>2008</th>\n",
       "      <th>2009</th>\n",
       "      <th>2010</th>\n",
       "      <th>2011</th>\n",
       "      <th>2012</th>\n",
       "      <th>2013</th>\n",
       "      <th>2014</th>\n",
       "      <th>2015</th>\n",
       "      <th>2016</th>\n",
       "      <th>2017</th>\n",
       "      <th>2018</th>\n",
       "      <th>2019</th>\n",
       "      <th>2020</th>\n",
       "      <th>2021</th>\n",
       "    </tr>\n",
       "  </thead>\n",
       "  <tbody>\n",
       "    <tr>\n",
       "      <th>count</th>\n",
       "      <td>71.00</td>\n",
       "      <td>71.00</td>\n",
       "      <td>70.00</td>\n",
       "      <td>70.00</td>\n",
       "      <td>70.00</td>\n",
       "      <td>70.00</td>\n",
       "      <td>70.00</td>\n",
       "      <td>70.00</td>\n",
       "      <td>70.00</td>\n",
       "      <td>70.00</td>\n",
       "      <td>70.00</td>\n",
       "      <td>70.00</td>\n",
       "      <td>70.00</td>\n",
       "      <td>70.00</td>\n",
       "      <td>70.00</td>\n",
       "      <td>70.00</td>\n",
       "    </tr>\n",
       "    <tr>\n",
       "      <th>mean</th>\n",
       "      <td>1897.37</td>\n",
       "      <td>1992.69</td>\n",
       "      <td>2066.13</td>\n",
       "      <td>2113.80</td>\n",
       "      <td>2163.15</td>\n",
       "      <td>2211.18</td>\n",
       "      <td>2255.00</td>\n",
       "      <td>2294.97</td>\n",
       "      <td>2316.03</td>\n",
       "      <td>2325.69</td>\n",
       "      <td>2334.98</td>\n",
       "      <td>2349.41</td>\n",
       "      <td>2373.77</td>\n",
       "      <td>2390.03</td>\n",
       "      <td>2350.41</td>\n",
       "      <td>2166.88</td>\n",
       "    </tr>\n",
       "    <tr>\n",
       "      <th>std</th>\n",
       "      <td>5590.97</td>\n",
       "      <td>5870.15</td>\n",
       "      <td>6045.73</td>\n",
       "      <td>6181.21</td>\n",
       "      <td>6327.27</td>\n",
       "      <td>6465.48</td>\n",
       "      <td>6593.36</td>\n",
       "      <td>6709.98</td>\n",
       "      <td>6770.67</td>\n",
       "      <td>6799.67</td>\n",
       "      <td>6825.89</td>\n",
       "      <td>6867.76</td>\n",
       "      <td>6938.52</td>\n",
       "      <td>6986.25</td>\n",
       "      <td>6870.09</td>\n",
       "      <td>6341.38</td>\n",
       "    </tr>\n",
       "    <tr>\n",
       "      <th>min</th>\n",
       "      <td>168.40</td>\n",
       "      <td>177.20</td>\n",
       "      <td>179.80</td>\n",
       "      <td>189.80</td>\n",
       "      <td>194.50</td>\n",
       "      <td>199.90</td>\n",
       "      <td>204.50</td>\n",
       "      <td>213.40</td>\n",
       "      <td>216.13</td>\n",
       "      <td>212.40</td>\n",
       "      <td>212.50</td>\n",
       "      <td>208.70</td>\n",
       "      <td>216.50</td>\n",
       "      <td>211.00</td>\n",
       "      <td>205.97</td>\n",
       "      <td>144.60</td>\n",
       "    </tr>\n",
       "    <tr>\n",
       "      <th>25%</th>\n",
       "      <td>443.95</td>\n",
       "      <td>457.35</td>\n",
       "      <td>487.72</td>\n",
       "      <td>479.18</td>\n",
       "      <td>488.48</td>\n",
       "      <td>509.02</td>\n",
       "      <td>522.35</td>\n",
       "      <td>535.45</td>\n",
       "      <td>536.10</td>\n",
       "      <td>534.78</td>\n",
       "      <td>532.38</td>\n",
       "      <td>531.45</td>\n",
       "      <td>537.85</td>\n",
       "      <td>538.80</td>\n",
       "      <td>529.78</td>\n",
       "      <td>477.45</td>\n",
       "    </tr>\n",
       "    <tr>\n",
       "      <th>50%</th>\n",
       "      <td>627.40</td>\n",
       "      <td>662.40</td>\n",
       "      <td>658.95</td>\n",
       "      <td>667.35</td>\n",
       "      <td>676.55</td>\n",
       "      <td>686.20</td>\n",
       "      <td>703.75</td>\n",
       "      <td>710.50</td>\n",
       "      <td>720.25</td>\n",
       "      <td>717.70</td>\n",
       "      <td>719.20</td>\n",
       "      <td>727.15</td>\n",
       "      <td>732.85</td>\n",
       "      <td>730.65</td>\n",
       "      <td>719.39</td>\n",
       "      <td>661.80</td>\n",
       "    </tr>\n",
       "    <tr>\n",
       "      <th>75%</th>\n",
       "      <td>953.50</td>\n",
       "      <td>1001.70</td>\n",
       "      <td>988.72</td>\n",
       "      <td>1009.70</td>\n",
       "      <td>1013.05</td>\n",
       "      <td>1056.12</td>\n",
       "      <td>1074.53</td>\n",
       "      <td>1092.45</td>\n",
       "      <td>1075.22</td>\n",
       "      <td>1077.18</td>\n",
       "      <td>1071.40</td>\n",
       "      <td>1081.60</td>\n",
       "      <td>1085.75</td>\n",
       "      <td>1098.62</td>\n",
       "      <td>1065.66</td>\n",
       "      <td>959.18</td>\n",
       "    </tr>\n",
       "    <tr>\n",
       "      <th>max</th>\n",
       "      <td>44904.50</td>\n",
       "      <td>47160.30</td>\n",
       "      <td>48209.60</td>\n",
       "      <td>49322.00</td>\n",
       "      <td>50473.50</td>\n",
       "      <td>51594.30</td>\n",
       "      <td>52616.60</td>\n",
       "      <td>53549.30</td>\n",
       "      <td>54040.70</td>\n",
       "      <td>54266.00</td>\n",
       "      <td>54482.80</td>\n",
       "      <td>54819.60</td>\n",
       "      <td>55388.00</td>\n",
       "      <td>55767.40</td>\n",
       "      <td>54842.94</td>\n",
       "      <td>50560.50</td>\n",
       "    </tr>\n",
       "  </tbody>\n",
       "</table>\n",
       "</div>"
      ],
      "text/plain": [
       "           2005      2007      2008      2009      2010      2011      2012  \\\n",
       "count     71.00     71.00     70.00     70.00     70.00     70.00     70.00   \n",
       "mean    1897.37   1992.69   2066.13   2113.80   2163.15   2211.18   2255.00   \n",
       "std     5590.97   5870.15   6045.73   6181.21   6327.27   6465.48   6593.36   \n",
       "min      168.40    177.20    179.80    189.80    194.50    199.90    204.50   \n",
       "25%      443.95    457.35    487.72    479.18    488.48    509.02    522.35   \n",
       "50%      627.40    662.40    658.95    667.35    676.55    686.20    703.75   \n",
       "75%      953.50   1001.70    988.72   1009.70   1013.05   1056.12   1074.53   \n",
       "max    44904.50  47160.30  48209.60  49322.00  50473.50  51594.30  52616.60   \n",
       "\n",
       "           2013      2014      2015      2016      2017      2018      2019  \\\n",
       "count     70.00     70.00     70.00     70.00     70.00     70.00     70.00   \n",
       "mean    2294.97   2316.03   2325.69   2334.98   2349.41   2373.77   2390.03   \n",
       "std     6709.98   6770.67   6799.67   6825.89   6867.76   6938.52   6986.25   \n",
       "min      213.40    216.13    212.40    212.50    208.70    216.50    211.00   \n",
       "25%      535.45    536.10    534.78    532.38    531.45    537.85    538.80   \n",
       "50%      710.50    720.25    717.70    719.20    727.15    732.85    730.65   \n",
       "75%     1092.45   1075.22   1077.18   1071.40   1081.60   1085.75   1098.62   \n",
       "max    53549.30  54040.70  54266.00  54482.80  54819.60  55388.00  55767.40   \n",
       "\n",
       "           2020      2021  \n",
       "count     70.00     70.00  \n",
       "mean    2350.41   2166.88  \n",
       "std     6870.09   6341.38  \n",
       "min      205.97    144.60  \n",
       "25%      529.78    477.45  \n",
       "50%      719.39    661.80  \n",
       "75%     1065.66    959.18  \n",
       "max    54842.94  50560.50  "
      ]
     },
     "execution_count": 68,
     "metadata": {},
     "output_type": "execute_result"
    }
   ],
   "source": [
    "data.describe().round(2)"
   ]
  },
  {
   "cell_type": "markdown",
   "id": "01839587",
   "metadata": {},
   "source": [
    "Như thấy trên, dữ liệu rất đầy đủ và không có gì bất thường. Ngoài trừ count của năm 2008 trở đi thì sẽ là 70. Điều này là do năm 2008 trở đi thì tỉnh Hà Tây đã sát nhập vào Hà Nội, nên dữ liệu của nó không còn nữa, điều này là bình thường."
   ]
  },
  {
   "cell_type": "code",
   "execution_count": null,
   "id": "1ecac119",
   "metadata": {},
   "outputs": [],
   "source": []
  }
 ],
 "metadata": {
  "kernelspec": {
   "display_name": "Python 3 (ipykernel)",
   "language": "python",
   "name": "python3"
  },
  "language_info": {
   "codemirror_mode": {
    "name": "ipython",
    "version": 3
   },
   "file_extension": ".py",
   "mimetype": "text/x-python",
   "name": "python",
   "nbconvert_exporter": "python",
   "pygments_lexer": "ipython3",
   "version": "3.8.13"
  }
 },
 "nbformat": 4,
 "nbformat_minor": 5
}
