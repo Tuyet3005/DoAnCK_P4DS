{
  "cells": [
    {
      "cell_type": "markdown",
      "id": "29a21cdf",
      "metadata": {
        "id": "29a21cdf"
      },
      "source": [
        "## Import thư viện"
      ]
    },
    {
      "cell_type": "code",
      "execution_count": 1,
      "id": "24652b01",
      "metadata": {
        "id": "24652b01"
      },
      "outputs": [],
      "source": [
        "import numpy as np\n",
        "import pandas as pd\n",
        "import matplotlib.pyplot as plt"
      ]
    },
    {
      "cell_type": "markdown",
      "id": "95dc4251",
      "metadata": {
        "id": "95dc4251"
      },
      "source": [
        "## Đọc dữ liệu"
      ]
    },
    {
      "cell_type": "code",
      "execution_count": 2,
      "id": "14354360",
      "metadata": {
        "id": "14354360"
      },
      "outputs": [],
      "source": [
        "data_df = pd.read_json('luc_luong_lao_dong.json')"
      ]
    },
    {
      "cell_type": "code",
      "execution_count": 3,
      "id": "3583a7d7",
      "metadata": {
        "colab": {
          "base_uri": "https://localhost:8080/",
          "height": 237
        },
        "id": "3583a7d7",
        "outputId": "84bd2306-248c-4420-8dbc-58e022016d09"
      },
      "outputs": [
        {
          "data": {
            "text/html": [
              "\n",
              "  <div id=\"df-478b75c3-952d-406b-97a5-a928edebfd40\">\n",
              "    <div class=\"colab-df-container\">\n",
              "      <div>\n",
              "<style scoped>\n",
              "    .dataframe tbody tr th:only-of-type {\n",
              "        vertical-align: middle;\n",
              "    }\n",
              "\n",
              "    .dataframe tbody tr th {\n",
              "        vertical-align: top;\n",
              "    }\n",
              "\n",
              "    .dataframe thead th {\n",
              "        text-align: right;\n",
              "    }\n",
              "</style>\n",
              "<table border=\"1\" class=\"dataframe\">\n",
              "  <thead>\n",
              "    <tr style=\"text-align: right;\">\n",
              "      <th></th>\n",
              "      <th>dataset</th>\n",
              "    </tr>\n",
              "  </thead>\n",
              "  <tbody>\n",
              "    <tr>\n",
              "      <th>dimension</th>\n",
              "      <td>{'Địa phương': {'label': 'Địa phương', 'catego...</td>\n",
              "    </tr>\n",
              "    <tr>\n",
              "      <th>label</th>\n",
              "      <td>Lực lượng lao động từ 15 tuổi trở lên phân the...</td>\n",
              "    </tr>\n",
              "    <tr>\n",
              "      <th>source</th>\n",
              "      <td>None</td>\n",
              "    </tr>\n",
              "    <tr>\n",
              "      <th>status</th>\n",
              "      <td>{'130': None}</td>\n",
              "    </tr>\n",
              "    <tr>\n",
              "      <th>updated</th>\n",
              "      <td>9999-12-31T16:59:59Z</td>\n",
              "    </tr>\n",
              "    <tr>\n",
              "      <th>value</th>\n",
              "      <td>[44904.5, 47160.3, 48209.6, 49322.0, 50473.5, ...</td>\n",
              "    </tr>\n",
              "  </tbody>\n",
              "</table>\n",
              "</div>\n",
              "      <button class=\"colab-df-convert\" onclick=\"convertToInteractive('df-478b75c3-952d-406b-97a5-a928edebfd40')\"\n",
              "              title=\"Convert this dataframe to an interactive table.\"\n",
              "              style=\"display:none;\">\n",
              "        \n",
              "  <svg xmlns=\"http://www.w3.org/2000/svg\" height=\"24px\"viewBox=\"0 0 24 24\"\n",
              "       width=\"24px\">\n",
              "    <path d=\"M0 0h24v24H0V0z\" fill=\"none\"/>\n",
              "    <path d=\"M18.56 5.44l.94 2.06.94-2.06 2.06-.94-2.06-.94-.94-2.06-.94 2.06-2.06.94zm-11 1L8.5 8.5l.94-2.06 2.06-.94-2.06-.94L8.5 2.5l-.94 2.06-2.06.94zm10 10l.94 2.06.94-2.06 2.06-.94-2.06-.94-.94-2.06-.94 2.06-2.06.94z\"/><path d=\"M17.41 7.96l-1.37-1.37c-.4-.4-.92-.59-1.43-.59-.52 0-1.04.2-1.43.59L10.3 9.45l-7.72 7.72c-.78.78-.78 2.05 0 2.83L4 21.41c.39.39.9.59 1.41.59.51 0 1.02-.2 1.41-.59l7.78-7.78 2.81-2.81c.8-.78.8-2.07 0-2.86zM5.41 20L4 18.59l7.72-7.72 1.47 1.35L5.41 20z\"/>\n",
              "  </svg>\n",
              "      </button>\n",
              "      \n",
              "  <style>\n",
              "    .colab-df-container {\n",
              "      display:flex;\n",
              "      flex-wrap:wrap;\n",
              "      gap: 12px;\n",
              "    }\n",
              "\n",
              "    .colab-df-convert {\n",
              "      background-color: #E8F0FE;\n",
              "      border: none;\n",
              "      border-radius: 50%;\n",
              "      cursor: pointer;\n",
              "      display: none;\n",
              "      fill: #1967D2;\n",
              "      height: 32px;\n",
              "      padding: 0 0 0 0;\n",
              "      width: 32px;\n",
              "    }\n",
              "\n",
              "    .colab-df-convert:hover {\n",
              "      background-color: #E2EBFA;\n",
              "      box-shadow: 0px 1px 2px rgba(60, 64, 67, 0.3), 0px 1px 3px 1px rgba(60, 64, 67, 0.15);\n",
              "      fill: #174EA6;\n",
              "    }\n",
              "\n",
              "    [theme=dark] .colab-df-convert {\n",
              "      background-color: #3B4455;\n",
              "      fill: #D2E3FC;\n",
              "    }\n",
              "\n",
              "    [theme=dark] .colab-df-convert:hover {\n",
              "      background-color: #434B5C;\n",
              "      box-shadow: 0px 1px 3px 1px rgba(0, 0, 0, 0.15);\n",
              "      filter: drop-shadow(0px 1px 2px rgba(0, 0, 0, 0.3));\n",
              "      fill: #FFFFFF;\n",
              "    }\n",
              "  </style>\n",
              "\n",
              "      <script>\n",
              "        const buttonEl =\n",
              "          document.querySelector('#df-478b75c3-952d-406b-97a5-a928edebfd40 button.colab-df-convert');\n",
              "        buttonEl.style.display =\n",
              "          google.colab.kernel.accessAllowed ? 'block' : 'none';\n",
              "\n",
              "        async function convertToInteractive(key) {\n",
              "          const element = document.querySelector('#df-478b75c3-952d-406b-97a5-a928edebfd40');\n",
              "          const dataTable =\n",
              "            await google.colab.kernel.invokeFunction('convertToInteractive',\n",
              "                                                     [key], {});\n",
              "          if (!dataTable) return;\n",
              "\n",
              "          const docLinkHtml = 'Like what you see? Visit the ' +\n",
              "            '<a target=\"_blank\" href=https://colab.research.google.com/notebooks/data_table.ipynb>data table notebook</a>'\n",
              "            + ' to learn more about interactive tables.';\n",
              "          element.innerHTML = '';\n",
              "          dataTable['output_type'] = 'display_data';\n",
              "          await google.colab.output.renderOutput(dataTable, element);\n",
              "          const docLink = document.createElement('div');\n",
              "          docLink.innerHTML = docLinkHtml;\n",
              "          element.appendChild(docLink);\n",
              "        }\n",
              "      </script>\n",
              "    </div>\n",
              "  </div>\n",
              "  "
            ],
            "text/plain": [
              "                                                     dataset\n",
              "dimension  {'Địa phương': {'label': 'Địa phương', 'catego...\n",
              "label      Lực lượng lao động từ 15 tuổi trở lên phân the...\n",
              "source                                                  None\n",
              "status                                         {'130': None}\n",
              "updated                                 9999-12-31T16:59:59Z\n",
              "value      [44904.5, 47160.3, 48209.6, 49322.0, 50473.5, ..."
            ]
          },
          "execution_count": 3,
          "metadata": {},
          "output_type": "execute_result"
        }
      ],
      "source": [
        "data_df"
      ]
    },
    {
      "cell_type": "markdown",
      "id": "9f87e9d0",
      "metadata": {
        "id": "9f87e9d0"
      },
      "source": [
        "## Tiền xử lý dữ liệu\n",
        "\n",
        "Như bảng trên, dữ liệu từ file json vẫn chưa thể sử dụng, trước đó ta cần chuyển về định dạng dòng cột hợp lý để có thể xử lý bằng pandas"
      ]
    },
    {
      "cell_type": "markdown",
      "id": "266eb17d",
      "metadata": {
        "id": "266eb17d"
      },
      "source": [
        "Trước hết, ta lọc ra label của các năm"
      ]
    },
    {
      "cell_type": "code",
      "execution_count": 4,
      "id": "4af1f394",
      "metadata": {
        "colab": {
          "base_uri": "https://localhost:8080/"
        },
        "id": "4af1f394",
        "outputId": "322b18be-5f2b-4b47-e0c7-2592d0390161"
      },
      "outputs": [
        {
          "data": {
            "text/plain": [
              "['2005',\n",
              " '2007',\n",
              " '2008',\n",
              " '2009',\n",
              " '2010',\n",
              " '2011',\n",
              " '2012',\n",
              " '2013',\n",
              " '2014',\n",
              " '2015',\n",
              " '2016',\n",
              " '2017',\n",
              " '2018',\n",
              " '2019',\n",
              " '2020',\n",
              " 'Sơ bộ 2021']"
            ]
          },
          "execution_count": 4,
          "metadata": {},
          "output_type": "execute_result"
        }
      ],
      "source": [
        "year_label = list(data_df['dataset']['dimension']['Năm']['category']['label'].values())\n",
        "year_label"
      ]
    },
    {
      "cell_type": "markdown",
      "id": "70946da5",
      "metadata": {
        "id": "70946da5"
      },
      "source": [
        "Đổi label cuối cùng thành '2021' cho dễ nhìn hơn"
      ]
    },
    {
      "cell_type": "code",
      "execution_count": 5,
      "id": "34c80fba",
      "metadata": {
        "id": "34c80fba"
      },
      "outputs": [],
      "source": [
        "year_label[-1] = '2021'"
      ]
    },
    {
      "cell_type": "markdown",
      "id": "ca19853b",
      "metadata": {
        "id": "ca19853b"
      },
      "source": [
        "Tiếp theo, lấy label của tất cả các địa phương"
      ]
    },
    {
      "cell_type": "code",
      "execution_count": 6,
      "id": "597c1c0e",
      "metadata": {
        "colab": {
          "base_uri": "https://localhost:8080/"
        },
        "id": "597c1c0e",
        "outputId": "47a43509-18db-4e10-bb95-0bada449dd4a"
      },
      "outputs": [
        {
          "data": {
            "text/plain": [
              "dict_values(['CẢ NƯỚC', 'Đồng bằng sông Hồng', 'Hà Nội', 'Hà Tây', 'Vĩnh Phúc', 'Bắc Ninh', 'Quảng Ninh', 'Hải Dương', 'Hải Phòng', 'Hưng Yên', 'Thái Bình', 'Hà Nam', 'Nam Định', 'Ninh Bình', 'Trung du và miền núi phía Bắc', 'Hà Giang', 'Cao Bằng', 'Bắc Kạn', 'Tuyên Quang', 'Lào Cai', 'Yên Bái', 'Thái Nguyên', 'Lạng Sơn', 'Bắc Giang', 'Phú Thọ', 'Điện Biên', 'Lai Châu', 'Sơn La', 'Hòa Bình', 'Bắc Trung Bộ và duyên hải miền Trung', 'Thanh Hóa', 'Nghệ An', 'Hà Tĩnh', 'Quảng Bình', 'Quảng Trị', 'Thừa Thiên - Huế', 'Đà Nẵng', 'Quảng Nam', 'Quảng Ngãi', 'Bình Định', 'Phú Yên', 'Khánh Hòa', 'Ninh Thuận', 'Bình Thuận', 'Tây Nguyên', 'Kon Tum', 'Gia Lai', 'Đắk Lắk', 'Đắk Nông', 'Lâm Đồng', 'Đông Nam Bộ', 'Bình Phước', 'Tây Ninh', 'Bình Dương', 'Đồng Nai', 'Bà Rịa - Vũng Tàu', 'TP. Hồ Chí Minh', 'Đồng bằng sông Cửu Long', 'Long An', 'Tiền Giang', 'Bến Tre', 'Trà Vinh', 'Vĩnh Long', 'Đồng Tháp', 'An Giang', 'Kiên Giang', 'Cần Thơ', 'Hậu Giang', 'Sóc Trăng', 'Bạc Liêu', 'Cà Mau'])"
            ]
          },
          "execution_count": 6,
          "metadata": {},
          "output_type": "execute_result"
        }
      ],
      "source": [
        "diaPhuong_label = data_df['dataset']['dimension']['Địa phương']['category']['label'].values()\n",
        "diaPhuong_label"
      ]
    },
    {
      "cell_type": "markdown",
      "id": "e919315a",
      "metadata": {
        "id": "e919315a"
      },
      "source": [
        "Tiếp theo, lấy dữ liệu của từng ô"
      ]
    },
    {
      "cell_type": "code",
      "execution_count": 7,
      "id": "c052f783",
      "metadata": {
        "colab": {
          "base_uri": "https://localhost:8080/"
        },
        "id": "c052f783",
        "outputId": "34263dd4-30fd-4d6f-d65d-21674215b08e"
      },
      "outputs": [
        {
          "data": {
            "text/plain": [
              "array([[44904.5, 47160.3, 48209.6, ..., 55767.4, 54842.94, 50560.5],\n",
              "       [10728.4, 11032.5, 11057.0, ..., 12438.2, 12182.1, 11436.7],\n",
              "       [1553.1, 1653.7, 3421.2, ..., 4118.3, 4124.62, 3939.9],\n",
              "       ...,\n",
              "       [720.3, 707.8, 722.3, ..., 657.9, 641.91, 614.1],\n",
              "       [439.4, 451.6, 483.1, ..., 518.1, 507.76, 480.9],\n",
              "       [581.6, 625.5, 654.1, ..., 690.9, 669.77, 596.8]], dtype=object)"
            ]
          },
          "execution_count": 7,
          "metadata": {},
          "output_type": "execute_result"
        }
      ],
      "source": [
        "value = np.array(data_df['dataset']['value']).reshape(len(diaPhuong_label), len(year_label))\n",
        "value"
      ]
    },
    {
      "cell_type": "markdown",
      "id": "7702e5b5",
      "metadata": {
        "id": "7702e5b5"
      },
      "source": [
        "Cuối cùng, lưu dữ liệu vào dataframe"
      ]
    },
    {
      "cell_type": "code",
      "execution_count": 8,
      "id": "7aa706db",
      "metadata": {
        "colab": {
          "base_uri": "https://localhost:8080/",
          "height": 424
        },
        "id": "7aa706db",
        "outputId": "ef22696f-a4f5-467b-8493-3cecf9cfa2c1"
      },
      "outputs": [
        {
          "data": {
            "text/html": [
              "\n",
              "  <div id=\"df-0d7f4c87-fc36-48cb-8286-cdf440d4899e\">\n",
              "    <div class=\"colab-df-container\">\n",
              "      <div>\n",
              "<style scoped>\n",
              "    .dataframe tbody tr th:only-of-type {\n",
              "        vertical-align: middle;\n",
              "    }\n",
              "\n",
              "    .dataframe tbody tr th {\n",
              "        vertical-align: top;\n",
              "    }\n",
              "\n",
              "    .dataframe thead th {\n",
              "        text-align: right;\n",
              "    }\n",
              "</style>\n",
              "<table border=\"1\" class=\"dataframe\">\n",
              "  <thead>\n",
              "    <tr style=\"text-align: right;\">\n",
              "      <th></th>\n",
              "      <th>2005</th>\n",
              "      <th>2007</th>\n",
              "      <th>2008</th>\n",
              "      <th>2009</th>\n",
              "      <th>2010</th>\n",
              "      <th>2011</th>\n",
              "      <th>2012</th>\n",
              "      <th>2013</th>\n",
              "      <th>2014</th>\n",
              "      <th>2015</th>\n",
              "      <th>2016</th>\n",
              "      <th>2017</th>\n",
              "      <th>2018</th>\n",
              "      <th>2019</th>\n",
              "      <th>2020</th>\n",
              "      <th>2021</th>\n",
              "    </tr>\n",
              "  </thead>\n",
              "  <tbody>\n",
              "    <tr>\n",
              "      <th>CẢ NƯỚC</th>\n",
              "      <td>44904.5</td>\n",
              "      <td>47160.3</td>\n",
              "      <td>48209.6</td>\n",
              "      <td>49322.0</td>\n",
              "      <td>50473.5</td>\n",
              "      <td>51594.3</td>\n",
              "      <td>52616.6</td>\n",
              "      <td>53549.3</td>\n",
              "      <td>54040.70</td>\n",
              "      <td>54266.0</td>\n",
              "      <td>54482.8</td>\n",
              "      <td>54819.6</td>\n",
              "      <td>55388.0</td>\n",
              "      <td>55767.4</td>\n",
              "      <td>54842.94</td>\n",
              "      <td>50560.5</td>\n",
              "    </tr>\n",
              "    <tr>\n",
              "      <th>Đồng bằng sông Hồng</th>\n",
              "      <td>10728.4</td>\n",
              "      <td>11032.5</td>\n",
              "      <td>11057.0</td>\n",
              "      <td>11147.5</td>\n",
              "      <td>11520.0</td>\n",
              "      <td>11662.1</td>\n",
              "      <td>11918.0</td>\n",
              "      <td>12175.1</td>\n",
              "      <td>12248.33</td>\n",
              "      <td>12268.4</td>\n",
              "      <td>12217.0</td>\n",
              "      <td>12273.3</td>\n",
              "      <td>12345.1</td>\n",
              "      <td>12438.2</td>\n",
              "      <td>12182.10</td>\n",
              "      <td>11436.7</td>\n",
              "    </tr>\n",
              "    <tr>\n",
              "      <th>Hà Nội</th>\n",
              "      <td>1553.1</td>\n",
              "      <td>1653.7</td>\n",
              "      <td>3421.2</td>\n",
              "      <td>3405.8</td>\n",
              "      <td>3614.6</td>\n",
              "      <td>3639.2</td>\n",
              "      <td>3807.9</td>\n",
              "      <td>3893.3</td>\n",
              "      <td>3935.69</td>\n",
              "      <td>4005.2</td>\n",
              "      <td>4006.3</td>\n",
              "      <td>4024.2</td>\n",
              "      <td>4064.8</td>\n",
              "      <td>4118.3</td>\n",
              "      <td>4124.62</td>\n",
              "      <td>3939.9</td>\n",
              "    </tr>\n",
              "    <tr>\n",
              "      <th>Hà Tây</th>\n",
              "      <td>1571.7</td>\n",
              "      <td>1575.2</td>\n",
              "      <td>NaN</td>\n",
              "      <td>NaN</td>\n",
              "      <td>NaN</td>\n",
              "      <td>NaN</td>\n",
              "      <td>NaN</td>\n",
              "      <td>NaN</td>\n",
              "      <td>NaN</td>\n",
              "      <td>NaN</td>\n",
              "      <td>NaN</td>\n",
              "      <td>NaN</td>\n",
              "      <td>NaN</td>\n",
              "      <td>NaN</td>\n",
              "      <td>NaN</td>\n",
              "      <td>NaN</td>\n",
              "    </tr>\n",
              "    <tr>\n",
              "      <th>Vĩnh Phúc</th>\n",
              "      <td>677.1</td>\n",
              "      <td>705.2</td>\n",
              "      <td>591.5</td>\n",
              "      <td>606.3</td>\n",
              "      <td>611.0</td>\n",
              "      <td>617.3</td>\n",
              "      <td>622.3</td>\n",
              "      <td>631.9</td>\n",
              "      <td>652.32</td>\n",
              "      <td>633.6</td>\n",
              "      <td>627.4</td>\n",
              "      <td>625.3</td>\n",
              "      <td>630.5</td>\n",
              "      <td>647.4</td>\n",
              "      <td>634.47</td>\n",
              "      <td>578.4</td>\n",
              "    </tr>\n",
              "    <tr>\n",
              "      <th>...</th>\n",
              "      <td>...</td>\n",
              "      <td>...</td>\n",
              "      <td>...</td>\n",
              "      <td>...</td>\n",
              "      <td>...</td>\n",
              "      <td>...</td>\n",
              "      <td>...</td>\n",
              "      <td>...</td>\n",
              "      <td>...</td>\n",
              "      <td>...</td>\n",
              "      <td>...</td>\n",
              "      <td>...</td>\n",
              "      <td>...</td>\n",
              "      <td>...</td>\n",
              "      <td>...</td>\n",
              "      <td>...</td>\n",
              "    </tr>\n",
              "    <tr>\n",
              "      <th>Cần Thơ</th>\n",
              "      <td>627.4</td>\n",
              "      <td>680.6</td>\n",
              "      <td>684.4</td>\n",
              "      <td>656.0</td>\n",
              "      <td>677.3</td>\n",
              "      <td>687.5</td>\n",
              "      <td>695.5</td>\n",
              "      <td>685.6</td>\n",
              "      <td>682.41</td>\n",
              "      <td>723.2</td>\n",
              "      <td>723.1</td>\n",
              "      <td>726.2</td>\n",
              "      <td>731.0</td>\n",
              "      <td>720.2</td>\n",
              "      <td>716.78</td>\n",
              "      <td>584.3</td>\n",
              "    </tr>\n",
              "    <tr>\n",
              "      <th>Hậu Giang</th>\n",
              "      <td>428.7</td>\n",
              "      <td>444.9</td>\n",
              "      <td>447.2</td>\n",
              "      <td>453.9</td>\n",
              "      <td>454.2</td>\n",
              "      <td>446.1</td>\n",
              "      <td>440.4</td>\n",
              "      <td>449.4</td>\n",
              "      <td>439.99</td>\n",
              "      <td>440.0</td>\n",
              "      <td>450.2</td>\n",
              "      <td>455.8</td>\n",
              "      <td>450.7</td>\n",
              "      <td>420.3</td>\n",
              "      <td>402.33</td>\n",
              "      <td>394.1</td>\n",
              "    </tr>\n",
              "    <tr>\n",
              "      <th>Sóc Trăng</th>\n",
              "      <td>720.3</td>\n",
              "      <td>707.8</td>\n",
              "      <td>722.3</td>\n",
              "      <td>756.9</td>\n",
              "      <td>752.0</td>\n",
              "      <td>726.7</td>\n",
              "      <td>724.5</td>\n",
              "      <td>705.7</td>\n",
              "      <td>666.15</td>\n",
              "      <td>658.8</td>\n",
              "      <td>682.7</td>\n",
              "      <td>674.4</td>\n",
              "      <td>670.1</td>\n",
              "      <td>657.9</td>\n",
              "      <td>641.91</td>\n",
              "      <td>614.1</td>\n",
              "    </tr>\n",
              "    <tr>\n",
              "      <th>Bạc Liêu</th>\n",
              "      <td>439.4</td>\n",
              "      <td>451.6</td>\n",
              "      <td>483.1</td>\n",
              "      <td>474.3</td>\n",
              "      <td>483.9</td>\n",
              "      <td>510.3</td>\n",
              "      <td>509.9</td>\n",
              "      <td>506.1</td>\n",
              "      <td>507.75</td>\n",
              "      <td>514.1</td>\n",
              "      <td>513.5</td>\n",
              "      <td>514.5</td>\n",
              "      <td>516.7</td>\n",
              "      <td>518.1</td>\n",
              "      <td>507.76</td>\n",
              "      <td>480.9</td>\n",
              "    </tr>\n",
              "    <tr>\n",
              "      <th>Cà Mau</th>\n",
              "      <td>581.6</td>\n",
              "      <td>625.5</td>\n",
              "      <td>654.1</td>\n",
              "      <td>675.6</td>\n",
              "      <td>672.6</td>\n",
              "      <td>677.9</td>\n",
              "      <td>688.7</td>\n",
              "      <td>685.3</td>\n",
              "      <td>691.94</td>\n",
              "      <td>682.3</td>\n",
              "      <td>684.7</td>\n",
              "      <td>683.7</td>\n",
              "      <td>688.3</td>\n",
              "      <td>690.9</td>\n",
              "      <td>669.77</td>\n",
              "      <td>596.8</td>\n",
              "    </tr>\n",
              "  </tbody>\n",
              "</table>\n",
              "<p>71 rows × 16 columns</p>\n",
              "</div>\n",
              "      <button class=\"colab-df-convert\" onclick=\"convertToInteractive('df-0d7f4c87-fc36-48cb-8286-cdf440d4899e')\"\n",
              "              title=\"Convert this dataframe to an interactive table.\"\n",
              "              style=\"display:none;\">\n",
              "        \n",
              "  <svg xmlns=\"http://www.w3.org/2000/svg\" height=\"24px\"viewBox=\"0 0 24 24\"\n",
              "       width=\"24px\">\n",
              "    <path d=\"M0 0h24v24H0V0z\" fill=\"none\"/>\n",
              "    <path d=\"M18.56 5.44l.94 2.06.94-2.06 2.06-.94-2.06-.94-.94-2.06-.94 2.06-2.06.94zm-11 1L8.5 8.5l.94-2.06 2.06-.94-2.06-.94L8.5 2.5l-.94 2.06-2.06.94zm10 10l.94 2.06.94-2.06 2.06-.94-2.06-.94-.94-2.06-.94 2.06-2.06.94z\"/><path d=\"M17.41 7.96l-1.37-1.37c-.4-.4-.92-.59-1.43-.59-.52 0-1.04.2-1.43.59L10.3 9.45l-7.72 7.72c-.78.78-.78 2.05 0 2.83L4 21.41c.39.39.9.59 1.41.59.51 0 1.02-.2 1.41-.59l7.78-7.78 2.81-2.81c.8-.78.8-2.07 0-2.86zM5.41 20L4 18.59l7.72-7.72 1.47 1.35L5.41 20z\"/>\n",
              "  </svg>\n",
              "      </button>\n",
              "      \n",
              "  <style>\n",
              "    .colab-df-container {\n",
              "      display:flex;\n",
              "      flex-wrap:wrap;\n",
              "      gap: 12px;\n",
              "    }\n",
              "\n",
              "    .colab-df-convert {\n",
              "      background-color: #E8F0FE;\n",
              "      border: none;\n",
              "      border-radius: 50%;\n",
              "      cursor: pointer;\n",
              "      display: none;\n",
              "      fill: #1967D2;\n",
              "      height: 32px;\n",
              "      padding: 0 0 0 0;\n",
              "      width: 32px;\n",
              "    }\n",
              "\n",
              "    .colab-df-convert:hover {\n",
              "      background-color: #E2EBFA;\n",
              "      box-shadow: 0px 1px 2px rgba(60, 64, 67, 0.3), 0px 1px 3px 1px rgba(60, 64, 67, 0.15);\n",
              "      fill: #174EA6;\n",
              "    }\n",
              "\n",
              "    [theme=dark] .colab-df-convert {\n",
              "      background-color: #3B4455;\n",
              "      fill: #D2E3FC;\n",
              "    }\n",
              "\n",
              "    [theme=dark] .colab-df-convert:hover {\n",
              "      background-color: #434B5C;\n",
              "      box-shadow: 0px 1px 3px 1px rgba(0, 0, 0, 0.15);\n",
              "      filter: drop-shadow(0px 1px 2px rgba(0, 0, 0, 0.3));\n",
              "      fill: #FFFFFF;\n",
              "    }\n",
              "  </style>\n",
              "\n",
              "      <script>\n",
              "        const buttonEl =\n",
              "          document.querySelector('#df-0d7f4c87-fc36-48cb-8286-cdf440d4899e button.colab-df-convert');\n",
              "        buttonEl.style.display =\n",
              "          google.colab.kernel.accessAllowed ? 'block' : 'none';\n",
              "\n",
              "        async function convertToInteractive(key) {\n",
              "          const element = document.querySelector('#df-0d7f4c87-fc36-48cb-8286-cdf440d4899e');\n",
              "          const dataTable =\n",
              "            await google.colab.kernel.invokeFunction('convertToInteractive',\n",
              "                                                     [key], {});\n",
              "          if (!dataTable) return;\n",
              "\n",
              "          const docLinkHtml = 'Like what you see? Visit the ' +\n",
              "            '<a target=\"_blank\" href=https://colab.research.google.com/notebooks/data_table.ipynb>data table notebook</a>'\n",
              "            + ' to learn more about interactive tables.';\n",
              "          element.innerHTML = '';\n",
              "          dataTable['output_type'] = 'display_data';\n",
              "          await google.colab.output.renderOutput(dataTable, element);\n",
              "          const docLink = document.createElement('div');\n",
              "          docLink.innerHTML = docLinkHtml;\n",
              "          element.appendChild(docLink);\n",
              "        }\n",
              "      </script>\n",
              "    </div>\n",
              "  </div>\n",
              "  "
            ],
            "text/plain": [
              "                        2005     2007     2008     2009     2010     2011  \\\n",
              "CẢ NƯỚC              44904.5  47160.3  48209.6  49322.0  50473.5  51594.3   \n",
              "Đồng bằng sông Hồng  10728.4  11032.5  11057.0  11147.5  11520.0  11662.1   \n",
              "Hà Nội                1553.1   1653.7   3421.2   3405.8   3614.6   3639.2   \n",
              "Hà Tây                1571.7   1575.2      NaN      NaN      NaN      NaN   \n",
              "Vĩnh Phúc              677.1    705.2    591.5    606.3    611.0    617.3   \n",
              "...                      ...      ...      ...      ...      ...      ...   \n",
              "Cần Thơ                627.4    680.6    684.4    656.0    677.3    687.5   \n",
              "Hậu Giang              428.7    444.9    447.2    453.9    454.2    446.1   \n",
              "Sóc Trăng              720.3    707.8    722.3    756.9    752.0    726.7   \n",
              "Bạc Liêu               439.4    451.6    483.1    474.3    483.9    510.3   \n",
              "Cà Mau                 581.6    625.5    654.1    675.6    672.6    677.9   \n",
              "\n",
              "                        2012     2013      2014     2015     2016     2017  \\\n",
              "CẢ NƯỚC              52616.6  53549.3  54040.70  54266.0  54482.8  54819.6   \n",
              "Đồng bằng sông Hồng  11918.0  12175.1  12248.33  12268.4  12217.0  12273.3   \n",
              "Hà Nội                3807.9   3893.3   3935.69   4005.2   4006.3   4024.2   \n",
              "Hà Tây                   NaN      NaN       NaN      NaN      NaN      NaN   \n",
              "Vĩnh Phúc              622.3    631.9    652.32    633.6    627.4    625.3   \n",
              "...                      ...      ...       ...      ...      ...      ...   \n",
              "Cần Thơ                695.5    685.6    682.41    723.2    723.1    726.2   \n",
              "Hậu Giang              440.4    449.4    439.99    440.0    450.2    455.8   \n",
              "Sóc Trăng              724.5    705.7    666.15    658.8    682.7    674.4   \n",
              "Bạc Liêu               509.9    506.1    507.75    514.1    513.5    514.5   \n",
              "Cà Mau                 688.7    685.3    691.94    682.3    684.7    683.7   \n",
              "\n",
              "                        2018     2019      2020     2021  \n",
              "CẢ NƯỚC              55388.0  55767.4  54842.94  50560.5  \n",
              "Đồng bằng sông Hồng  12345.1  12438.2  12182.10  11436.7  \n",
              "Hà Nội                4064.8   4118.3   4124.62   3939.9  \n",
              "Hà Tây                   NaN      NaN       NaN      NaN  \n",
              "Vĩnh Phúc              630.5    647.4    634.47    578.4  \n",
              "...                      ...      ...       ...      ...  \n",
              "Cần Thơ                731.0    720.2    716.78    584.3  \n",
              "Hậu Giang              450.7    420.3    402.33    394.1  \n",
              "Sóc Trăng              670.1    657.9    641.91    614.1  \n",
              "Bạc Liêu               516.7    518.1    507.76    480.9  \n",
              "Cà Mau                 688.3    690.9    669.77    596.8  \n",
              "\n",
              "[71 rows x 16 columns]"
            ]
          },
          "execution_count": 8,
          "metadata": {},
          "output_type": "execute_result"
        }
      ],
      "source": [
        "data = pd.DataFrame(data = value, index = diaPhuong_label, columns = year_label)\n",
        "data = data.fillna(value=np.nan)\n",
        "data"
      ]
    },
    {
      "attachments": {},
      "cell_type": "markdown",
      "id": "-TWqhYi_cEA5",
      "metadata": {
        "id": "-TWqhYi_cEA5"
      },
      "source": [
        "### Khám phá dữ liệu (định dạng của dữ liệu)\n",
        "Sau khi thực hiện bước đầu tiền xử lý dữ liệu, ta được một bảng với các dòng là tên của các tỉnh/vùng miền. Tên các cột là các năm. Dữ liệu cho thấy lực lượng lao động của từng tỉnh/vùng miền qua các năm. Đơn vị của các ô là nghìn người."
      ]
    },
    {
      "cell_type": "markdown",
      "id": "d213fd6c",
      "metadata": {
        "id": "d213fd6c"
      },
      "source": [
        "Ta tách riêng các vùng miền như 'CẢ NƯỚC', 'Đồng bằng sông Hồng',.. riêng ra 1 dataframe để dễ xử lý"
      ]
    },
    {
      "cell_type": "code",
      "execution_count": 9,
      "id": "72c0aac8",
      "metadata": {
        "colab": {
          "base_uri": "https://localhost:8080/",
          "height": 237
        },
        "id": "72c0aac8",
        "outputId": "46be17d5-baec-49bc-c0a4-24b52ba9ef97"
      },
      "outputs": [
        {
          "data": {
            "text/html": [
              "\n",
              "  <div id=\"df-c096cc2c-def9-45f6-ab9b-03979a71cfe9\">\n",
              "    <div class=\"colab-df-container\">\n",
              "      <div>\n",
              "<style scoped>\n",
              "    .dataframe tbody tr th:only-of-type {\n",
              "        vertical-align: middle;\n",
              "    }\n",
              "\n",
              "    .dataframe tbody tr th {\n",
              "        vertical-align: top;\n",
              "    }\n",
              "\n",
              "    .dataframe thead th {\n",
              "        text-align: right;\n",
              "    }\n",
              "</style>\n",
              "<table border=\"1\" class=\"dataframe\">\n",
              "  <thead>\n",
              "    <tr style=\"text-align: right;\">\n",
              "      <th></th>\n",
              "      <th>2005</th>\n",
              "      <th>2007</th>\n",
              "      <th>2008</th>\n",
              "      <th>2009</th>\n",
              "      <th>2010</th>\n",
              "      <th>2011</th>\n",
              "      <th>2012</th>\n",
              "      <th>2013</th>\n",
              "      <th>2014</th>\n",
              "      <th>2015</th>\n",
              "      <th>2016</th>\n",
              "      <th>2017</th>\n",
              "      <th>2018</th>\n",
              "      <th>2019</th>\n",
              "      <th>2020</th>\n",
              "      <th>2021</th>\n",
              "    </tr>\n",
              "  </thead>\n",
              "  <tbody>\n",
              "    <tr>\n",
              "      <th>Đồng bằng sông Hồng</th>\n",
              "      <td>10728.4</td>\n",
              "      <td>11032.5</td>\n",
              "      <td>11057.0</td>\n",
              "      <td>11147.5</td>\n",
              "      <td>11520.0</td>\n",
              "      <td>11662.1</td>\n",
              "      <td>11918.0</td>\n",
              "      <td>12175.1</td>\n",
              "      <td>12248.33</td>\n",
              "      <td>12268.4</td>\n",
              "      <td>12217.0</td>\n",
              "      <td>12273.3</td>\n",
              "      <td>12345.1</td>\n",
              "      <td>12438.2</td>\n",
              "      <td>12182.10</td>\n",
              "      <td>11436.7</td>\n",
              "    </tr>\n",
              "    <tr>\n",
              "      <th>Trung du và miền núi phía Bắc</th>\n",
              "      <td>6275.6</td>\n",
              "      <td>6547.4</td>\n",
              "      <td>6561.2</td>\n",
              "      <td>6801.7</td>\n",
              "      <td>6903.1</td>\n",
              "      <td>7082.1</td>\n",
              "      <td>7229.0</td>\n",
              "      <td>7417.5</td>\n",
              "      <td>7488.08</td>\n",
              "      <td>7443.0</td>\n",
              "      <td>7502.4</td>\n",
              "      <td>7541.6</td>\n",
              "      <td>7670.1</td>\n",
              "      <td>7736.2</td>\n",
              "      <td>7665.63</td>\n",
              "      <td>5866.7</td>\n",
              "    </tr>\n",
              "    <tr>\n",
              "      <th>Bắc Trung Bộ và duyên hải miền Trung</th>\n",
              "      <td>9748.5</td>\n",
              "      <td>10061.7</td>\n",
              "      <td>10322.5</td>\n",
              "      <td>10577.0</td>\n",
              "      <td>10979.7</td>\n",
              "      <td>11197.0</td>\n",
              "      <td>11379.6</td>\n",
              "      <td>11686.4</td>\n",
              "      <td>11839.93</td>\n",
              "      <td>11743.9</td>\n",
              "      <td>11723.6</td>\n",
              "      <td>11737.1</td>\n",
              "      <td>11793.7</td>\n",
              "      <td>11830.5</td>\n",
              "      <td>11557.57</td>\n",
              "      <td>10462.3</td>\n",
              "    </tr>\n",
              "    <tr>\n",
              "      <th>Tây Nguyên</th>\n",
              "      <td>2548.9</td>\n",
              "      <td>2624.7</td>\n",
              "      <td>2693.4</td>\n",
              "      <td>2855.7</td>\n",
              "      <td>2931.0</td>\n",
              "      <td>3052.7</td>\n",
              "      <td>3135.5</td>\n",
              "      <td>3223.7</td>\n",
              "      <td>3309.37</td>\n",
              "      <td>3301.7</td>\n",
              "      <td>3323.5</td>\n",
              "      <td>3367.8</td>\n",
              "      <td>3410.7</td>\n",
              "      <td>3486.0</td>\n",
              "      <td>3456.58</td>\n",
              "      <td>3520.1</td>\n",
              "    </tr>\n",
              "    <tr>\n",
              "      <th>Đông Nam Bộ</th>\n",
              "      <td>6248.2</td>\n",
              "      <td>7121.4</td>\n",
              "      <td>7680.3</td>\n",
              "      <td>7894.0</td>\n",
              "      <td>8048.9</td>\n",
              "      <td>8426.2</td>\n",
              "      <td>8680.9</td>\n",
              "      <td>8822.3</td>\n",
              "      <td>8996.79</td>\n",
              "      <td>9322.2</td>\n",
              "      <td>9514.2</td>\n",
              "      <td>9701.7</td>\n",
              "      <td>9888.0</td>\n",
              "      <td>10174.4</td>\n",
              "      <td>10082.15</td>\n",
              "      <td>9913.3</td>\n",
              "    </tr>\n",
              "    <tr>\n",
              "      <th>Đồng bằng sông Cửu Long</th>\n",
              "      <td>9354.9</td>\n",
              "      <td>9772.7</td>\n",
              "      <td>9895.2</td>\n",
              "      <td>10046.1</td>\n",
              "      <td>10090.8</td>\n",
              "      <td>10174.2</td>\n",
              "      <td>10273.6</td>\n",
              "      <td>10224.3</td>\n",
              "      <td>10158.20</td>\n",
              "      <td>10186.8</td>\n",
              "      <td>10202.1</td>\n",
              "      <td>10198.1</td>\n",
              "      <td>10280.4</td>\n",
              "      <td>10102.1</td>\n",
              "      <td>9898.90</td>\n",
              "      <td>9361.4</td>\n",
              "    </tr>\n",
              "  </tbody>\n",
              "</table>\n",
              "</div>\n",
              "      <button class=\"colab-df-convert\" onclick=\"convertToInteractive('df-c096cc2c-def9-45f6-ab9b-03979a71cfe9')\"\n",
              "              title=\"Convert this dataframe to an interactive table.\"\n",
              "              style=\"display:none;\">\n",
              "        \n",
              "  <svg xmlns=\"http://www.w3.org/2000/svg\" height=\"24px\"viewBox=\"0 0 24 24\"\n",
              "       width=\"24px\">\n",
              "    <path d=\"M0 0h24v24H0V0z\" fill=\"none\"/>\n",
              "    <path d=\"M18.56 5.44l.94 2.06.94-2.06 2.06-.94-2.06-.94-.94-2.06-.94 2.06-2.06.94zm-11 1L8.5 8.5l.94-2.06 2.06-.94-2.06-.94L8.5 2.5l-.94 2.06-2.06.94zm10 10l.94 2.06.94-2.06 2.06-.94-2.06-.94-.94-2.06-.94 2.06-2.06.94z\"/><path d=\"M17.41 7.96l-1.37-1.37c-.4-.4-.92-.59-1.43-.59-.52 0-1.04.2-1.43.59L10.3 9.45l-7.72 7.72c-.78.78-.78 2.05 0 2.83L4 21.41c.39.39.9.59 1.41.59.51 0 1.02-.2 1.41-.59l7.78-7.78 2.81-2.81c.8-.78.8-2.07 0-2.86zM5.41 20L4 18.59l7.72-7.72 1.47 1.35L5.41 20z\"/>\n",
              "  </svg>\n",
              "      </button>\n",
              "      \n",
              "  <style>\n",
              "    .colab-df-container {\n",
              "      display:flex;\n",
              "      flex-wrap:wrap;\n",
              "      gap: 12px;\n",
              "    }\n",
              "\n",
              "    .colab-df-convert {\n",
              "      background-color: #E8F0FE;\n",
              "      border: none;\n",
              "      border-radius: 50%;\n",
              "      cursor: pointer;\n",
              "      display: none;\n",
              "      fill: #1967D2;\n",
              "      height: 32px;\n",
              "      padding: 0 0 0 0;\n",
              "      width: 32px;\n",
              "    }\n",
              "\n",
              "    .colab-df-convert:hover {\n",
              "      background-color: #E2EBFA;\n",
              "      box-shadow: 0px 1px 2px rgba(60, 64, 67, 0.3), 0px 1px 3px 1px rgba(60, 64, 67, 0.15);\n",
              "      fill: #174EA6;\n",
              "    }\n",
              "\n",
              "    [theme=dark] .colab-df-convert {\n",
              "      background-color: #3B4455;\n",
              "      fill: #D2E3FC;\n",
              "    }\n",
              "\n",
              "    [theme=dark] .colab-df-convert:hover {\n",
              "      background-color: #434B5C;\n",
              "      box-shadow: 0px 1px 3px 1px rgba(0, 0, 0, 0.15);\n",
              "      filter: drop-shadow(0px 1px 2px rgba(0, 0, 0, 0.3));\n",
              "      fill: #FFFFFF;\n",
              "    }\n",
              "  </style>\n",
              "\n",
              "      <script>\n",
              "        const buttonEl =\n",
              "          document.querySelector('#df-c096cc2c-def9-45f6-ab9b-03979a71cfe9 button.colab-df-convert');\n",
              "        buttonEl.style.display =\n",
              "          google.colab.kernel.accessAllowed ? 'block' : 'none';\n",
              "\n",
              "        async function convertToInteractive(key) {\n",
              "          const element = document.querySelector('#df-c096cc2c-def9-45f6-ab9b-03979a71cfe9');\n",
              "          const dataTable =\n",
              "            await google.colab.kernel.invokeFunction('convertToInteractive',\n",
              "                                                     [key], {});\n",
              "          if (!dataTable) return;\n",
              "\n",
              "          const docLinkHtml = 'Like what you see? Visit the ' +\n",
              "            '<a target=\"_blank\" href=https://colab.research.google.com/notebooks/data_table.ipynb>data table notebook</a>'\n",
              "            + ' to learn more about interactive tables.';\n",
              "          element.innerHTML = '';\n",
              "          dataTable['output_type'] = 'display_data';\n",
              "          await google.colab.output.renderOutput(dataTable, element);\n",
              "          const docLink = document.createElement('div');\n",
              "          docLink.innerHTML = docLinkHtml;\n",
              "          element.appendChild(docLink);\n",
              "        }\n",
              "      </script>\n",
              "    </div>\n",
              "  </div>\n",
              "  "
            ],
            "text/plain": [
              "                                         2005     2007     2008     2009  \\\n",
              "Đồng bằng sông Hồng                   10728.4  11032.5  11057.0  11147.5   \n",
              "Trung du và miền núi phía Bắc          6275.6   6547.4   6561.2   6801.7   \n",
              "Bắc Trung Bộ và duyên hải miền Trung   9748.5  10061.7  10322.5  10577.0   \n",
              "Tây Nguyên                             2548.9   2624.7   2693.4   2855.7   \n",
              "Đông Nam Bộ                            6248.2   7121.4   7680.3   7894.0   \n",
              "Đồng bằng sông Cửu Long                9354.9   9772.7   9895.2  10046.1   \n",
              "\n",
              "                                         2010     2011     2012     2013  \\\n",
              "Đồng bằng sông Hồng                   11520.0  11662.1  11918.0  12175.1   \n",
              "Trung du và miền núi phía Bắc          6903.1   7082.1   7229.0   7417.5   \n",
              "Bắc Trung Bộ và duyên hải miền Trung  10979.7  11197.0  11379.6  11686.4   \n",
              "Tây Nguyên                             2931.0   3052.7   3135.5   3223.7   \n",
              "Đông Nam Bộ                            8048.9   8426.2   8680.9   8822.3   \n",
              "Đồng bằng sông Cửu Long               10090.8  10174.2  10273.6  10224.3   \n",
              "\n",
              "                                          2014     2015     2016     2017  \\\n",
              "Đồng bằng sông Hồng                   12248.33  12268.4  12217.0  12273.3   \n",
              "Trung du và miền núi phía Bắc          7488.08   7443.0   7502.4   7541.6   \n",
              "Bắc Trung Bộ và duyên hải miền Trung  11839.93  11743.9  11723.6  11737.1   \n",
              "Tây Nguyên                             3309.37   3301.7   3323.5   3367.8   \n",
              "Đông Nam Bộ                            8996.79   9322.2   9514.2   9701.7   \n",
              "Đồng bằng sông Cửu Long               10158.20  10186.8  10202.1  10198.1   \n",
              "\n",
              "                                         2018     2019      2020     2021  \n",
              "Đồng bằng sông Hồng                   12345.1  12438.2  12182.10  11436.7  \n",
              "Trung du và miền núi phía Bắc          7670.1   7736.2   7665.63   5866.7  \n",
              "Bắc Trung Bộ và duyên hải miền Trung  11793.7  11830.5  11557.57  10462.3  \n",
              "Tây Nguyên                             3410.7   3486.0   3456.58   3520.1  \n",
              "Đông Nam Bộ                            9888.0  10174.4  10082.15   9913.3  \n",
              "Đồng bằng sông Cửu Long               10280.4  10102.1   9898.90   9361.4  "
            ]
          },
          "execution_count": 9,
          "metadata": {},
          "output_type": "execute_result"
        }
      ],
      "source": [
        "region = ['Đồng bằng sông Hồng', 'Trung du và miền núi phía Bắc', 'Bắc Trung Bộ và duyên hải miền Trung',\n",
        "         'Đồng bằng sông Cửu Long', 'Đông Nam Bộ', 'Tây Nguyên']\n",
        "region_df = data.loc[data.index.isin(region)] \n",
        "\n",
        "\n",
        "#Bỏ các dòng là CẢ NƯỚC hoặc là 1 khu vực\n",
        "data = data.drop(data[(data.index == 'CẢ NƯỚC') | (data.index.isin(region))].index)\n",
        "#data\n",
        "region_df"
      ]
    },
    {
      "cell_type": "markdown",
      "id": "3ee7f87f",
      "metadata": {
        "id": "3ee7f87f"
      },
      "source": [
        "## Khám phá dữ liệu"
      ]
    },
    {
      "cell_type": "markdown",
      "id": "3d23aed9",
      "metadata": {
        "id": "3d23aed9"
      },
      "source": [
        "Dùng hàm describe để xem xét các chỉ số như count, mean, std, Q1, Q3,.. để có cái nhìn chung hơn về dữ liệu."
      ]
    },
    {
      "cell_type": "code",
      "execution_count": 10,
      "id": "284ae5a5",
      "metadata": {
        "colab": {
          "base_uri": "https://localhost:8080/",
          "height": 300
        },
        "id": "284ae5a5",
        "outputId": "2e6ad244-3fd7-41f6-a955-0e46177f9838",
        "scrolled": false
      },
      "outputs": [
        {
          "data": {
            "text/html": [
              "\n",
              "  <div id=\"df-1ae6501f-5949-49e8-a9e5-d0334d665b22\">\n",
              "    <div class=\"colab-df-container\">\n",
              "      <div>\n",
              "<style scoped>\n",
              "    .dataframe tbody tr th:only-of-type {\n",
              "        vertical-align: middle;\n",
              "    }\n",
              "\n",
              "    .dataframe tbody tr th {\n",
              "        vertical-align: top;\n",
              "    }\n",
              "\n",
              "    .dataframe thead th {\n",
              "        text-align: right;\n",
              "    }\n",
              "</style>\n",
              "<table border=\"1\" class=\"dataframe\">\n",
              "  <thead>\n",
              "    <tr style=\"text-align: right;\">\n",
              "      <th></th>\n",
              "      <th>2005</th>\n",
              "      <th>2007</th>\n",
              "      <th>2008</th>\n",
              "      <th>2009</th>\n",
              "      <th>2010</th>\n",
              "      <th>2011</th>\n",
              "      <th>2012</th>\n",
              "      <th>2013</th>\n",
              "      <th>2014</th>\n",
              "      <th>2015</th>\n",
              "      <th>2016</th>\n",
              "      <th>2017</th>\n",
              "      <th>2018</th>\n",
              "      <th>2019</th>\n",
              "      <th>2020</th>\n",
              "      <th>2021</th>\n",
              "    </tr>\n",
              "  </thead>\n",
              "  <tbody>\n",
              "    <tr>\n",
              "      <th>count</th>\n",
              "      <td>64.00</td>\n",
              "      <td>64.00</td>\n",
              "      <td>63.00</td>\n",
              "      <td>63.00</td>\n",
              "      <td>63.00</td>\n",
              "      <td>63.00</td>\n",
              "      <td>63.00</td>\n",
              "      <td>63.00</td>\n",
              "      <td>63.00</td>\n",
              "      <td>63.00</td>\n",
              "      <td>63.00</td>\n",
              "      <td>63.00</td>\n",
              "      <td>63.00</td>\n",
              "      <td>63.00</td>\n",
              "      <td>63.00</td>\n",
              "      <td>63.00</td>\n",
              "    </tr>\n",
              "    <tr>\n",
              "      <th>mean</th>\n",
              "      <td>701.63</td>\n",
              "      <td>736.88</td>\n",
              "      <td>765.23</td>\n",
              "      <td>782.89</td>\n",
              "      <td>801.17</td>\n",
              "      <td>818.96</td>\n",
              "      <td>835.18</td>\n",
              "      <td>849.99</td>\n",
              "      <td>857.79</td>\n",
              "      <td>861.37</td>\n",
              "      <td>864.81</td>\n",
              "      <td>870.15</td>\n",
              "      <td>879.17</td>\n",
              "      <td>885.20</td>\n",
              "      <td>870.52</td>\n",
              "      <td>802.55</td>\n",
              "    </tr>\n",
              "    <tr>\n",
              "      <th>std</th>\n",
              "      <td>458.42</td>\n",
              "      <td>508.01</td>\n",
              "      <td>619.01</td>\n",
              "      <td>622.23</td>\n",
              "      <td>644.90</td>\n",
              "      <td>660.28</td>\n",
              "      <td>678.80</td>\n",
              "      <td>692.12</td>\n",
              "      <td>700.98</td>\n",
              "      <td>717.53</td>\n",
              "      <td>723.13</td>\n",
              "      <td>731.98</td>\n",
              "      <td>744.48</td>\n",
              "      <td>761.75</td>\n",
              "      <td>757.38</td>\n",
              "      <td>734.64</td>\n",
              "    </tr>\n",
              "    <tr>\n",
              "      <th>min</th>\n",
              "      <td>168.40</td>\n",
              "      <td>177.20</td>\n",
              "      <td>179.80</td>\n",
              "      <td>189.80</td>\n",
              "      <td>194.50</td>\n",
              "      <td>199.90</td>\n",
              "      <td>204.50</td>\n",
              "      <td>213.40</td>\n",
              "      <td>216.13</td>\n",
              "      <td>212.40</td>\n",
              "      <td>212.50</td>\n",
              "      <td>208.70</td>\n",
              "      <td>216.50</td>\n",
              "      <td>211.00</td>\n",
              "      <td>205.97</td>\n",
              "      <td>144.60</td>\n",
              "    </tr>\n",
              "    <tr>\n",
              "      <th>25%</th>\n",
              "      <td>437.80</td>\n",
              "      <td>450.35</td>\n",
              "      <td>465.15</td>\n",
              "      <td>467.60</td>\n",
              "      <td>479.60</td>\n",
              "      <td>495.00</td>\n",
              "      <td>512.40</td>\n",
              "      <td>512.05</td>\n",
              "      <td>516.77</td>\n",
              "      <td>518.10</td>\n",
              "      <td>519.65</td>\n",
              "      <td>514.65</td>\n",
              "      <td>526.10</td>\n",
              "      <td>520.75</td>\n",
              "      <td>515.95</td>\n",
              "      <td>452.30</td>\n",
              "    </tr>\n",
              "    <tr>\n",
              "      <th>50%</th>\n",
              "      <td>598.55</td>\n",
              "      <td>628.70</td>\n",
              "      <td>630.80</td>\n",
              "      <td>639.50</td>\n",
              "      <td>653.10</td>\n",
              "      <td>677.90</td>\n",
              "      <td>695.50</td>\n",
              "      <td>685.60</td>\n",
              "      <td>689.39</td>\n",
              "      <td>712.40</td>\n",
              "      <td>713.60</td>\n",
              "      <td>705.00</td>\n",
              "      <td>707.00</td>\n",
              "      <td>707.20</td>\n",
              "      <td>692.83</td>\n",
              "      <td>614.10</td>\n",
              "    </tr>\n",
              "    <tr>\n",
              "      <th>75%</th>\n",
              "      <td>811.62</td>\n",
              "      <td>876.75</td>\n",
              "      <td>846.75</td>\n",
              "      <td>900.90</td>\n",
              "      <td>912.75</td>\n",
              "      <td>928.85</td>\n",
              "      <td>959.20</td>\n",
              "      <td>965.90</td>\n",
              "      <td>978.44</td>\n",
              "      <td>972.30</td>\n",
              "      <td>966.65</td>\n",
              "      <td>965.25</td>\n",
              "      <td>976.45</td>\n",
              "      <td>941.00</td>\n",
              "      <td>920.66</td>\n",
              "      <td>916.60</td>\n",
              "    </tr>\n",
              "    <tr>\n",
              "      <th>max</th>\n",
              "      <td>2966.40</td>\n",
              "      <td>3568.10</td>\n",
              "      <td>3856.50</td>\n",
              "      <td>3868.50</td>\n",
              "      <td>3903.70</td>\n",
              "      <td>4050.10</td>\n",
              "      <td>4160.40</td>\n",
              "      <td>4198.90</td>\n",
              "      <td>4274.27</td>\n",
              "      <td>4420.70</td>\n",
              "      <td>4493.70</td>\n",
              "      <td>4578.70</td>\n",
              "      <td>4684.90</td>\n",
              "      <td>4826.00</td>\n",
              "      <td>4769.63</td>\n",
              "      <td>4622.50</td>\n",
              "    </tr>\n",
              "  </tbody>\n",
              "</table>\n",
              "</div>\n",
              "      <button class=\"colab-df-convert\" onclick=\"convertToInteractive('df-1ae6501f-5949-49e8-a9e5-d0334d665b22')\"\n",
              "              title=\"Convert this dataframe to an interactive table.\"\n",
              "              style=\"display:none;\">\n",
              "        \n",
              "  <svg xmlns=\"http://www.w3.org/2000/svg\" height=\"24px\"viewBox=\"0 0 24 24\"\n",
              "       width=\"24px\">\n",
              "    <path d=\"M0 0h24v24H0V0z\" fill=\"none\"/>\n",
              "    <path d=\"M18.56 5.44l.94 2.06.94-2.06 2.06-.94-2.06-.94-.94-2.06-.94 2.06-2.06.94zm-11 1L8.5 8.5l.94-2.06 2.06-.94-2.06-.94L8.5 2.5l-.94 2.06-2.06.94zm10 10l.94 2.06.94-2.06 2.06-.94-2.06-.94-.94-2.06-.94 2.06-2.06.94z\"/><path d=\"M17.41 7.96l-1.37-1.37c-.4-.4-.92-.59-1.43-.59-.52 0-1.04.2-1.43.59L10.3 9.45l-7.72 7.72c-.78.78-.78 2.05 0 2.83L4 21.41c.39.39.9.59 1.41.59.51 0 1.02-.2 1.41-.59l7.78-7.78 2.81-2.81c.8-.78.8-2.07 0-2.86zM5.41 20L4 18.59l7.72-7.72 1.47 1.35L5.41 20z\"/>\n",
              "  </svg>\n",
              "      </button>\n",
              "      \n",
              "  <style>\n",
              "    .colab-df-container {\n",
              "      display:flex;\n",
              "      flex-wrap:wrap;\n",
              "      gap: 12px;\n",
              "    }\n",
              "\n",
              "    .colab-df-convert {\n",
              "      background-color: #E8F0FE;\n",
              "      border: none;\n",
              "      border-radius: 50%;\n",
              "      cursor: pointer;\n",
              "      display: none;\n",
              "      fill: #1967D2;\n",
              "      height: 32px;\n",
              "      padding: 0 0 0 0;\n",
              "      width: 32px;\n",
              "    }\n",
              "\n",
              "    .colab-df-convert:hover {\n",
              "      background-color: #E2EBFA;\n",
              "      box-shadow: 0px 1px 2px rgba(60, 64, 67, 0.3), 0px 1px 3px 1px rgba(60, 64, 67, 0.15);\n",
              "      fill: #174EA6;\n",
              "    }\n",
              "\n",
              "    [theme=dark] .colab-df-convert {\n",
              "      background-color: #3B4455;\n",
              "      fill: #D2E3FC;\n",
              "    }\n",
              "\n",
              "    [theme=dark] .colab-df-convert:hover {\n",
              "      background-color: #434B5C;\n",
              "      box-shadow: 0px 1px 3px 1px rgba(0, 0, 0, 0.15);\n",
              "      filter: drop-shadow(0px 1px 2px rgba(0, 0, 0, 0.3));\n",
              "      fill: #FFFFFF;\n",
              "    }\n",
              "  </style>\n",
              "\n",
              "      <script>\n",
              "        const buttonEl =\n",
              "          document.querySelector('#df-1ae6501f-5949-49e8-a9e5-d0334d665b22 button.colab-df-convert');\n",
              "        buttonEl.style.display =\n",
              "          google.colab.kernel.accessAllowed ? 'block' : 'none';\n",
              "\n",
              "        async function convertToInteractive(key) {\n",
              "          const element = document.querySelector('#df-1ae6501f-5949-49e8-a9e5-d0334d665b22');\n",
              "          const dataTable =\n",
              "            await google.colab.kernel.invokeFunction('convertToInteractive',\n",
              "                                                     [key], {});\n",
              "          if (!dataTable) return;\n",
              "\n",
              "          const docLinkHtml = 'Like what you see? Visit the ' +\n",
              "            '<a target=\"_blank\" href=https://colab.research.google.com/notebooks/data_table.ipynb>data table notebook</a>'\n",
              "            + ' to learn more about interactive tables.';\n",
              "          element.innerHTML = '';\n",
              "          dataTable['output_type'] = 'display_data';\n",
              "          await google.colab.output.renderOutput(dataTable, element);\n",
              "          const docLink = document.createElement('div');\n",
              "          docLink.innerHTML = docLinkHtml;\n",
              "          element.appendChild(docLink);\n",
              "        }\n",
              "      </script>\n",
              "    </div>\n",
              "  </div>\n",
              "  "
            ],
            "text/plain": [
              "          2005     2007     2008     2009     2010     2011     2012     2013  \\\n",
              "count    64.00    64.00    63.00    63.00    63.00    63.00    63.00    63.00   \n",
              "mean    701.63   736.88   765.23   782.89   801.17   818.96   835.18   849.99   \n",
              "std     458.42   508.01   619.01   622.23   644.90   660.28   678.80   692.12   \n",
              "min     168.40   177.20   179.80   189.80   194.50   199.90   204.50   213.40   \n",
              "25%     437.80   450.35   465.15   467.60   479.60   495.00   512.40   512.05   \n",
              "50%     598.55   628.70   630.80   639.50   653.10   677.90   695.50   685.60   \n",
              "75%     811.62   876.75   846.75   900.90   912.75   928.85   959.20   965.90   \n",
              "max    2966.40  3568.10  3856.50  3868.50  3903.70  4050.10  4160.40  4198.90   \n",
              "\n",
              "          2014     2015     2016     2017     2018     2019     2020     2021  \n",
              "count    63.00    63.00    63.00    63.00    63.00    63.00    63.00    63.00  \n",
              "mean    857.79   861.37   864.81   870.15   879.17   885.20   870.52   802.55  \n",
              "std     700.98   717.53   723.13   731.98   744.48   761.75   757.38   734.64  \n",
              "min     216.13   212.40   212.50   208.70   216.50   211.00   205.97   144.60  \n",
              "25%     516.77   518.10   519.65   514.65   526.10   520.75   515.95   452.30  \n",
              "50%     689.39   712.40   713.60   705.00   707.00   707.20   692.83   614.10  \n",
              "75%     978.44   972.30   966.65   965.25   976.45   941.00   920.66   916.60  \n",
              "max    4274.27  4420.70  4493.70  4578.70  4684.90  4826.00  4769.63  4622.50  "
            ]
          },
          "execution_count": 10,
          "metadata": {},
          "output_type": "execute_result"
        }
      ],
      "source": [
        "data.describe().round(2)"
      ]
    },
    {
      "cell_type": "markdown",
      "id": "01839587",
      "metadata": {
        "id": "01839587"
      },
      "source": [
        "- Như thấy trên, dữ liệu rất đầy đủ và không có gì bất thường. Ngoài trừ count của năm 2008 trở đi thì sẽ là 63. Điều này là do năm 2008 trở đi thì tỉnh Hà Tây đã sát nhập vào Hà Nội, nên dữ liệu của nó không còn nữa, điều này là bình thường.\n",
        "- Giá trị min và max chênh lệch rất lớn, chứng tỏ lực lượng lao động phân bố rất không đồng đều.\n",
        "- Giá trị max gấp gần 6 lần giá trị trung bình và gấp 5 lần giá trị Q3. Lực lương lao động ở đây lên đến 4622.5 (nghìn người) năm 2021, trong khi đó bảng trên ta đã biết cả nước 2021 khoảng 50000 (nghìn người). Như vậy ở đây gần bằng 10% cả nước. Chứng tỏ lực lượng lao động chủ yếu tập trung ở thành phố lớn."
      ]
    },
    {
      "cell_type": "markdown",
      "id": "bcd61d6a",
      "metadata": {
        "id": "bcd61d6a"
      },
      "source": [
        " Để tiện xử lý, ta drop Hà Tây ra khỏi bảng"
      ]
    },
    {
      "cell_type": "code",
      "execution_count": 11,
      "id": "e6c6eb26",
      "metadata": {
        "id": "e6c6eb26"
      },
      "outputs": [],
      "source": [
        "data = data.drop(index=('Hà Tây'))\n",
        "#data"
      ]
    },
    {
      "cell_type": "markdown",
      "id": "349211ab",
      "metadata": {
        "id": "349211ab"
      },
      "source": [
        "## Câu hỏi: Lực lượng lao động của nước ta thay đổi như thế nào theo từng tỉnh và vùng miền từ năm 2005-2021?"
      ]
    },
    {
      "cell_type": "markdown",
      "id": "db71ae37",
      "metadata": {
        "id": "db71ae37"
      },
      "source": [
        "Trả lời câu hỏi này giúp ta biết được lực lượng lao động của nước ta theo từng vùng, từng địa phương, sự thay đổi của nó theo thời gian như thế nào? Lực lượng lao động cũng là một tiêu chí để đánh giá sự phát triển của một vùng, biết được sự thay đổi của lực lượng lao động có thể biết được sự phát triển của địa phương. Ngoài ra, nó còn giúp nhiều cho những người đang gặp vấn đề tuyển dụng hoặc mở công ty ở trụ sở mới. Khi một người chuyển nhà, họ cũng cần tìm hiểu lực lượng lao động ở đó như thế nào để đánh giá độ khó khăn của kiếm việc làm khi đến đó."
      ]
    },
    {
      "cell_type": "markdown",
      "id": "126bbada",
      "metadata": {
        "id": "126bbada"
      },
      "source": [
        "### Trước hết, ta cùng tìm hiểu về sự thay đổi về lực lượng lao động qua các năm."
      ]
    },
    {
      "cell_type": "code",
      "execution_count": 12,
      "id": "3cb246f0",
      "metadata": {
        "colab": {
          "base_uri": "https://localhost:8080/",
          "height": 299
        },
        "id": "3cb246f0",
        "outputId": "83543767-ff5d-41e6-ec5d-f35c7ec6270d"
      },
      "outputs": [
        {
          "data": {
            "text/plain": [
              "<matplotlib.legend.Legend at 0x7fe445f24d60>"
            ]
          },
          "execution_count": 12,
          "metadata": {},
          "output_type": "execute_result"
        },
        {
          "data": {
            "image/png": "[encoded data removed]",
            "text/plain": [
              "<Figure size 432x288 with 1 Axes>"
            ]
          },
          "metadata": {
            "needs_background": "light"
          },
          "output_type": "display_data"
        }
      ],
      "source": [
        "ax = region_df.transpose().plot.line(title = \"Biểu đồ thể hiện sự thay đổi lực lương lao động của các vùng miền qua các năm\",\n",
        "                                    color = ['red', 'green','black','blue','yellow','gray'])\n",
        "ax.legend(bbox_to_anchor=(1.0, 1.0))"
      ]
    },
    {
      "cell_type": "markdown",
      "id": "128fb950",
      "metadata": {
        "id": "128fb950"
      },
      "source": [
        "Nhận xét:\n",
        "- Tất cả các khu vực đều có lực lương lao động tăng dần theo các năm kể từ 2005-2019. Riêng các năm 2020, 2021 thì có xu hướng giảm. Giải thích cho điều này là do ảnh hưởng covid 19, khiến nhiều người mất việc làm.\n",
        "- Lực lượng lao động Việt Nam tăng do dân số nước ta ngày càng tăng. Lực lượng lao động tăng giúp nước ta có nguồn lao động dồi dào, giúp ích cho phát triển kinh tế, tuy nhiên cũng dần xảy ra nhiều tệ nạn xã hội hơn trước.\n",
        "- Trong các khu vực, khu vực đồng bằng sông Hồng có lực lượng lao động lớn nhất, dẫn đầu cả nước. Đây là nơi có địa hình thuận lợi, tập trung dân cư. \n",
        "- Tây nguyên địa hình phức tạp, khí hậu khắc nghiệt, dân cư thưa thớt nên lực lượng lao động luôn thấp so với phần còn lại của cả nước.\n",
        "- Đông Nam Bộ là nơi có xu hướng gia tăng lực lượng lao động lớn nhất, đây là vùng đất phát triển nhanh, đầy tiềm năng."
      ]
    },
    {
      "cell_type": "markdown",
      "id": "6dd404de",
      "metadata": {
        "id": "6dd404de"
      },
      "source": [
        "### Tiếp theo, ta vẽ biểu đồ để trực quan cho lực lượng lao động của từng tỉnh"
      ]
    },
    {
      "cell_type": "code",
      "execution_count": 13,
      "id": "0e1e8e5f",
      "metadata": {
        "id": "0e1e8e5f"
      },
      "outputs": [],
      "source": [
        "#Vẽ biểu đồ map, nếu chưa cài đặt geopandas thì phải cài đặt trước.\n",
        "#!conda update --all -y\n",
        "#!conda install geopandas -y"
      ]
    },
    {
      "cell_type": "markdown",
      "id": "af08a882",
      "metadata": {
        "id": "af08a882"
      },
      "source": [
        "Để vẽ trực quan, cần import thư viện vẽ bản đồ và bản đồ Việt Nam"
      ]
    },
    {
      "cell_type": "code",
      "execution_count": 14,
      "id": "870ef159",
      "metadata": {
        "id": "870ef159"
      },
      "outputs": [],
      "source": [
        "import geopandas\n",
        "url = \"https://data.opendevelopmentmekong.net/dataset/999c96d8-fae0-4b82-9a2b-e481f6f50e12/resource/234169fb-ae73-4f23-bbd4-ff20a4fca401/download/diaphantinh.geojson\"\n",
        "df_map = geopandas.read_file(url)\n",
        "#df_map"
      ]
    },
    {
      "cell_type": "markdown",
      "id": "94d4ef54",
      "metadata": {
        "id": "94d4ef54"
      },
      "source": [
        "Kiểm tra xem tên tỉnh thành của 2 bên đã khớp chưa"
      ]
    },
    {
      "cell_type": "code",
      "execution_count": 15,
      "id": "a9ee5416",
      "metadata": {
        "colab": {
          "base_uri": "https://localhost:8080/"
        },
        "id": "a9ee5416",
        "outputId": "8c61982b-293b-40b6-d18d-8e8b59091eed"
      },
      "outputs": [
        {
          "name": "stdout",
          "output_type": "stream",
          "text": [
            "['Bà Rịa -Vũng Tàu', 'Cần Thơn', 'Kien Giang', 'Quản Bình', 'Thừa Thiên Huế', 'Đăk Lăk', 'Đăk Nông']\n",
            "['Bà Rịa - Vũng Tàu', 'Cần Thơ', 'Kiên Giang', 'Quảng Bình', 'Thừa Thiên - Huế', 'Đắk Lắk', 'Đắk Nông']\n"
          ]
        }
      ],
      "source": [
        "s1 = sorted(set(df_map['ten_tinh']).difference(set(data.index)))\n",
        "s2 = sorted(set(data.index).difference(set(df_map['ten_tinh'])))\n",
        "print(s1)\n",
        "print(s2)"
      ]
    },
    {
      "cell_type": "markdown",
      "id": "f6eacdbd",
      "metadata": {
        "id": "f6eacdbd"
      },
      "source": [
        "Như vậy, các tỉnh thành ở map có một số bị sai chính tả, cần sửa lại"
      ]
    },
    {
      "cell_type": "code",
      "execution_count": 16,
      "id": "4efb4957",
      "metadata": {
        "id": "4efb4957"
      },
      "outputs": [],
      "source": [
        "for i in range(len(s1)):\n",
        "    df_map['ten_tinh'] = df_map['ten_tinh'].replace(s1[i], s2[i])\n",
        "df_map = df_map.set_index('ten_tinh')"
      ]
    },
    {
      "cell_type": "markdown",
      "id": "110017c8",
      "metadata": {
        "id": "110017c8"
      },
      "source": [
        "Gộp bảng map và value"
      ]
    },
    {
      "cell_type": "code",
      "execution_count": 17,
      "id": "cbd0e388",
      "metadata": {
        "id": "cbd0e388"
      },
      "outputs": [],
      "source": [
        "value_map_df = pd.merge(df_map, data, left_index=True, right_index=True)\n",
        "#value_map_df.head(5)"
      ]
    },
    {
      "cell_type": "markdown",
      "id": "89946c00",
      "metadata": {
        "id": "89946c00"
      },
      "source": [
        "Hàm vẽ hình trực quan lực lượng lao động theo tỉnh thành"
      ]
    },
    {
      "cell_type": "code",
      "execution_count": 18,
      "id": "c7bc7ec2",
      "metadata": {
        "id": "c7bc7ec2"
      },
      "outputs": [],
      "source": [
        "def draw_year(year, ax):\n",
        "    ax.set_axis_off()\n",
        "    value_map_df.plot(ax = ax, column = year, legend = True,  legend_kwds={'shrink': 0.5})\n",
        "    ax.set_title(f\"Biểu đồ lực lượng lao động của các tỉnh thành năm {year}\")\n"
      ]
    },
    {
      "cell_type": "code",
      "execution_count": 19,
      "id": "4f15d45c",
      "metadata": {
        "colab": {
          "base_uri": "https://localhost:8080/",
          "height": 591
        },
        "id": "4f15d45c",
        "outputId": "0b6d6e38-2217-480a-99f2-e097b47a2fed"
      },
      "outputs": [
        {
          "data": {
            "image/png": "[encoded data removed]",
            "text/plain": [
              "<Figure size 864x720 with 8 Axes>"
            ]
          },
          "metadata": {
            "needs_background": "light"
          },
          "output_type": "display_data"
        }
      ],
      "source": [
        "fig, ax = plt.subplots(2,2, figsize = (12,10))\n",
        "draw_year('2005', ax[0, 0])\n",
        "draw_year('2010', ax[0, 1])\n",
        "draw_year('2015', ax[1, 0])\n",
        "draw_year('2021', ax[1, 1])\n",
        "\n"
      ]
    },
    {
      "cell_type": "markdown",
      "id": "7c28c06c",
      "metadata": {
        "id": "7c28c06c"
      },
      "source": [
        "Nhận xét:\n",
        "- Biểu đồ trên cho thấy sự phân bố lực lượng lao động của các tỉnh thành nước ta.\n",
        "- Tp.Hồ Chí Minh, Hà Nội và các khu vực lân cận luôn là những vùng có lực lượng lao động lớn nhất cả nước, đây là 2 trung tâm kinh tế lớn, sẽ \n",
        "- Các tỉnh miền núi phía Bắc và một số tỉnh Tây Nguyên là vùng có lực lượng lao động thấp nhất cả nước\n",
        "- Theo các năm, lực lượng lao động đang có xu hướng tăng dần."
      ]
    }
  ],
  "metadata": {
    "colab": {
      "provenance": []
    },
    "kernelspec": {
      "display_name": "Python 3 (ipykernel)",
      "language": "python",
      "name": "python3"
    },
    "language_info": {
      "codemirror_mode": {
        "name": "ipython",
        "version": 3
      },
      "file_extension": ".py",
      "mimetype": "text/x-python",
      "name": "python",
      "nbconvert_exporter": "python",
      "pygments_lexer": "ipython3",
      "version": "3.8.15"
    }
  },
  "nbformat": 4,
  "nbformat_minor": 5
}
